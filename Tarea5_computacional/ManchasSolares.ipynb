{
 "metadata": {
  "name": ""
 },
 "nbformat": 3,
 "nbformat_minor": 0,
 "worksheets": [
  {
   "cells": [
    {
     "cell_type": "code",
     "collapsed": false,
     "input": [
      "import modulo_manchas_solares as mfs\n",
      "import numpy as np\n",
      "\n",
      "def main():\n",
      "    \"\"\"\n",
      "    Lee datos del registro del promedio de manchas solares por dia cada mes desde 1600s hasta 1995. \n",
      "    -Interpola los datos para estimar estimar el numero de manchas en los meses en los que no se tienen datos por medio de interpolacion contante, lineal, y cubica. \n",
      "    -Se realiza la transformada de Fourier a las 3, se obtienen los espectros de potencias, y paso seguido se hacen iguales a cero las amplitudes de las frecuencias que esten fuera del rango de 2 y 20 anos. \n",
      "    -Reconstruir la senal y estimar el periodo del ciclo solar.   \n",
      "    \"\"\"\n",
      "    #Carga los datos de las manchas solares\n",
      "    data = np.loadtxt(\"sparse_sample_monthrg.dat\")\n",
      "\n",
      "    #Interpolacion constante, lineal, y cubica de los datos \n",
      "    interpConst = mfs.interpolacionConstante(data)\n",
      "    interpLin = mfs.interpolacionLineal(data)   \n",
      "    interpCub = mfs.interpolacionCubica(data) \n",
      "                           \n",
      "    #Encuentra la transformada de fourier para cada interpolacion\n",
      "    freqConst, xkConst = mfs.fourierTransform(interpConst)\n",
      "    freqLin, xkLin = mfs.fourierTransform(interpLin)\n",
      "    freqCub, xkCub = mfs.fourierTransform(interpCub)\n",
      "\n",
      "    #Grafica el espectro de potencias de las 3 interpolaciones\n",
      "    mfs.espectro_potencias(freqConst,xkConst,freqLin,xkLin,freqCub,xkCub)\n",
      "\n",
      "    \n",
      "    #Elimina los xk que correspondan a periodos que no esten entre 2 y 20 anos\n",
      "    xkConst_ajustada = mfs.ajuste_periodos(xkConst,freqConst)  \n",
      "    xkLin_ajustada = mfs.ajuste_periodos(xkLin,freqLin)\t\n",
      "    xkCub_ajustada = mfs.ajuste_periodos(xkCub,freqCub)\n",
      "   \n",
      "    #Reconstruye la senales y grafica la senal suavizada y los datos reales para cada interpolacion\n",
      "    mfs.manchas_reconstruidas(xkConst_ajustada,interpConst,\"Constante\")\n",
      "    mfs.manchas_reconstruidas(xkLin_ajustada,interpLin,\"Lineal\")\n",
      "    mfs.manchas_reconstruidas(xkCub_ajustada,interpCub,\"Cubica\")\n",
      "\n",
      "    #Estima el periodo del ciclo solar\n",
      "    mfs.ciclos_solares(xkConst_ajustada, freqConst,\"Constante\")\n",
      "    mfs.ciclos_solares(xkLin_ajustada, freqLin,\"Lineal\")\n",
      "    mfs.ciclos_solares(xkCub_ajustada, freqCub,\"Cubica\")\n",
      "if __name__ == \"__main__\":\n",
      "    main()"
     ],
     "language": "python",
     "metadata": {},
     "outputs": [
      {
       "output_type": "stream",
       "stream": "stdout",
       "text": [
        "El periodo del ciclo solar es de  11.3504901961 anos segun la interpolacion  Constante\n",
        "El periodo del ciclo solar es de  11.3504901961 anos segun la interpolacion  Lineal\n",
        "El periodo del ciclo solar es de  11.3504901961 anos segun la interpolacion  Cubica\n"
       ]
      }
     ],
     "prompt_number": 6
    },
    {
     "cell_type": "code",
     "collapsed": false,
     "input": [],
     "language": "python",
     "metadata": {},
     "outputs": [],
     "prompt_number": 2
    },
    {
     "cell_type": "code",
     "collapsed": false,
     "input": [],
     "language": "python",
     "metadata": {},
     "outputs": []
    }
   ],
   "metadata": {}
  }
 ]
}