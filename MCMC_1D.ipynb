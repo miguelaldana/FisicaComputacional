{
 "metadata": {
  "name": ""
 },
 "nbformat": 3,
 "nbformat_minor": 0,
 "worksheets": [
  {
   "cells": [
    {
     "cell_type": "code",
     "collapsed": false,
     "input": [
      "%pylab inline"
     ],
     "language": "python",
     "metadata": {},
     "outputs": [
      {
       "output_type": "stream",
       "stream": "stdout",
       "text": [
        "Populating the interactive namespace from numpy and matplotlib\n"
       ]
      },
      {
       "output_type": "stream",
       "stream": "stderr",
       "text": [
        "WARNING: pylab import has clobbered these variables: ['norm', 'f', 'beta']\n",
        "`%pylab --no-import-all` prevents importing * from pylab and numpy\n"
       ]
      }
     ],
     "prompt_number": 186
    },
    {
     "cell_type": "code",
     "collapsed": false,
     "input": [
      "import numpy as np\n",
      "\n",
      "x = linspace(0.0,60.0,1000)\n",
      "\n",
      "def function(x):\n",
      "    return exp(-((x - 30.0)**2)/100)\n",
      "\n",
      "plot(x, function(x))"
     ],
     "language": "python",
     "metadata": {},
     "outputs": [
      {
       "metadata": {},
       "output_type": "pyout",
       "prompt_number": 187,
       "text": [
        "[<matplotlib.lines.Line2D at 0xb22a14c>]"
       ]
      },
      {
       "metadata": {},
       "output_type": "display_data",
       "png": "[encoded data removed]",
       "text": [
        "<matplotlib.figure.Figure at 0xa7a1dac>"
       ]
      }
     ],
     "prompt_number": 187
    },
    {
     "cell_type": "code",
     "collapsed": false,
     "input": [
      "x_walk = empty((0)) #this is an empty list to keep all the steps\n",
      "x_0 = 8.0*((random.random())-0.5) #this is the initialization\n",
      "x_walk = append(x_walk,x_0)\n",
      "print x_walk"
     ],
     "language": "python",
     "metadata": {},
     "outputs": [
      {
       "output_type": "stream",
       "stream": "stdout",
       "text": [
        "[-0.21157886]\n"
       ]
      }
     ],
     "prompt_number": 188
    },
    {
     "cell_type": "code",
     "collapsed": false,
     "input": [
      "n_iterations = 200000 #this is the number of iterations I want to make\n",
      "for i in range(n_iterations):\n",
      "    x_prime = np.random.normal(x_walk[i], 1.0) #0.1 is the sigma in the normal distribution\n",
      "    alpha = function(x_prime)/function(x_walk[i])\n",
      "    if(alpha>=1.0):\n",
      "        x_walk  = append(x_walk,x_prime)\n",
      "    else:\n",
      "        beta = random.random()\n",
      "        if(beta<=alpha):\n",
      "            x_walk = append(x_walk, x_prime)\n",
      "        else:\n",
      "            x_walk = append(x_walk, x_walk[i])"
     ],
     "language": "python",
     "metadata": {},
     "outputs": [],
     "prompt_number": 189
    },
    {
     "cell_type": "code",
     "collapsed": false,
     "input": [
      "f = function(x)\n",
      "norm = sum(f*(x[1]-x[0]))\n",
      "plot(x,f/norm, linewidth=1, color='r')\n",
      "count, bins, ignored = plt.hist(x_walk, 500, normed=True)\n",
      "\n",
      "#fig = figure(1, figsize=(9.5,6.5))\n",
      "plt.xlabel('x')\n",
      "plt.ylabel('p(x)')\n",
      "ax = axes()\n",
      "ax.set_xlim([0.0,60.0])\n",
      "ax.set_ylim([0.0,.1])"
     ],
     "language": "python",
     "metadata": {},
     "outputs": [
      {
       "metadata": {},
       "output_type": "pyout",
       "prompt_number": 190,
       "text": [
        "(0.0, 0.1)"
       ]
      },
      {
       "metadata": {},
       "output_type": "display_data",
       "png": "[encoded data removed]",
       "text": [
        "<matplotlib.figure.Figure at 0x9da74ec>"
       ]
      }
     ],
     "prompt_number": 190
    },
    {
     "cell_type": "code",
     "collapsed": false,
     "input": [],
     "language": "python",
     "metadata": {},
     "outputs": []
    }
   ],
   "metadata": {}
  }
 ]
}