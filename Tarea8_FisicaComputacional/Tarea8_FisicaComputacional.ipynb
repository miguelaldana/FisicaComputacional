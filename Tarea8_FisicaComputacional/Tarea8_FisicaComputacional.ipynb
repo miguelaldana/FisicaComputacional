{
 "metadata": {
  "name": ""
 },
 "nbformat": 3,
 "nbformat_minor": 0,
 "worksheets": [
  {
   "cells": [
    {
     "cell_type": "code",
     "collapsed": false,
     "input": [
      "%pylab inline"
     ],
     "language": "python",
     "metadata": {},
     "outputs": [
      {
       "output_type": "stream",
       "stream": "stdout",
       "text": [
        "Populating the interactive namespace from numpy and matplotlib\n"
       ]
      },
      {
       "output_type": "stream",
       "stream": "stderr",
       "text": [
        "WARNING: pylab import has clobbered these variables: ['rk4']\n",
        "`%pylab --no-import-all` prevents importing * from pylab and numpy\n"
       ]
      }
     ],
     "prompt_number": 11
    },
    {
     "cell_type": "code",
     "collapsed": false,
     "input": [
      "import numpy as np\n",
      "import scipy.integrate as integrate\n",
      "\n",
      "data_obs = loadtxt(\"dimer_observations.dat\")\n",
      "\n",
      "t = data_obs[:,0] \n",
      "p = data_obs[:,1]\n",
      "\n",
      "scatter(t, p)\n",
      "plot(t, p)\n",
      "\n",
      "h = 0.02\n",
      "n_points = int((35 + h)/h)\n",
      "p_temp = zeros(n_points)\n",
      "t_temp = zeros(n_points)\n",
      "p_temp[0] = p[0]\n",
      "t_temp[0] = t[0]\n",
      "\n",
      "print p[0], t[0]"
     ],
     "language": "python",
     "metadata": {},
     "outputs": [
      {
       "output_type": "stream",
       "stream": "stdout",
       "text": [
        "34.0 5.0\n"
       ]
      },
      {
       "metadata": {},
       "output_type": "display_data",
       "png": "[encoded data removed]",
       "text": [
        "<matplotlib.figure.Figure at 0xa5b4e8c>"
       ]
      }
     ],
     "prompt_number": 12
    },
    {
     "cell_type": "code",
     "collapsed": false,
     "input": [
      "def rk4(alpha, beta, km1, km2, s):\n",
      "\n",
      "    def function_dP_dt(p_temp, t_temp):\n",
      "        termino_1 = (alpha*(s-p_temp))/(km1 + s - p_temp)\n",
      "        termino_2 = (beta*p_temp)/(km2 + p_temp)\n",
      "        return termino_1 - termino_2\n",
      "    \n",
      "    for i in range(1, n_points):\n",
      "  \n",
      "        k1 = function_dP_dt(p_temp[i-1], t_temp[i-1])\n",
      "    \n",
      "        #first step\n",
      "        t1 = t_temp[i-1] + (h/2.0)\n",
      "        p1 = p_temp[i-1] + (h/2.0)*k1\n",
      "        k2 = function_dP_dt(p1, t1)\n",
      "    \n",
      "        #second step\n",
      "        t2 = t_temp[i-1] + (h/2.0)\n",
      "        p2 = p_temp[i-1] + (h/2.0)*k2\n",
      "        k3 = function_dP_dt(p2, t2)\n",
      "        \n",
      "        #third step\n",
      "        t3 = t_temp[i-1] + h\n",
      "        p3 = p_temp[i-1] + h*k3\n",
      "        k4 = function_dP_dt(p3, t3)\n",
      "        \n",
      "        #fourth step\n",
      "        average_k = (1.0/6.0)*(k1 + 2.0*k2 + 2.0*k3 + k4)\n",
      "        \n",
      "        t_temp[i] = t_temp[i-1] + h\n",
      "        p_temp[i] = p_temp[i-1] + h*average_k\n",
      "        \n",
      "    return t_temp, p_temp"
     ],
     "language": "python",
     "metadata": {},
     "outputs": [],
     "prompt_number": 13
    },
    {
     "cell_type": "code",
     "collapsed": false,
     "input": [
      "def likelihood(p, p_model):\n",
      "    chi_squared = 0.0\n",
      "    a = 0\n",
      "    for i in range(len(p_model)):\n",
      "                for j in range(len(p)):                                \n",
      "                    chi_squared = chi_squared + ((p[j] - p_model[i])**2)\n",
      "                    a = a+1\n",
      "                                \n",
      "    return chi_squared*0.5"
     ],
     "language": "python",
     "metadata": {},
     "outputs": [],
     "prompt_number": 14
    },
    {
     "cell_type": "code",
     "collapsed": false,
     "input": [
      "alpha_walk = empty((0))\n",
      "beta_walk = empty((0))\n",
      "km1_walk = empty((0))\n",
      "km2_walk = empty((0))\n",
      "s_walk = empty((0))\n",
      "los_sigmas = empty((0))\n",
      "\n",
      "alpha_walk = np.append(alpha_walk, np.random.random())\n",
      "beta_walk = np.append(beta_walk, np.random.random())\n",
      "km1_walk = np.append(km1_walk, np.random.random())\n",
      "km2_walk = np.append(km2_walk, np.random.random())\n",
      "s_walk = np.append(s_walk, np.random.random())"
     ],
     "language": "python",
     "metadata": {},
     "outputs": [],
     "prompt_number": 15
    },
    {
     "cell_type": "code",
     "collapsed": false,
     "input": [
      "n_iterations = 2000 \n",
      "\n",
      "for i in range(n_iterations):\n",
      "    \n",
      "    alpha_prime = np.random.normal(alpha_walk[i], 0.1) \n",
      "    beta_prime = np.random.normal(beta_walk[i], 0.1)\n",
      "    km1_prime = np.random.normal(km1_walk[i], 0.1)\n",
      "    km2_prime = np.random.normal(km2_walk[i], 0.1)\n",
      "    s_prime = np.random.normal(s_walk[i], 0.1)\n",
      "\n",
      "    t_init, p_init = rk4(alpha_walk[i], beta_walk[i], km1_walk[i], km2_walk[i], s_walk[i])\n",
      "    t_prime, p_prime = rk4(alpha_prime, beta_prime, km1_prime, km2_prime, s_prime)\n",
      "\n",
      "    sigma_1 = likelihood(p, p_init)\n",
      "    sigma_2 = likelihood(p, p_prime)\n",
      "    \n",
      "    sigma = sigma_1 - sigma_2\n",
      "    \n",
      "    if(sigma >= 0.0):\n",
      "        \n",
      "        alpha_walk  = np.append(alpha_walk, alpha_prime)\n",
      "        beta_walk  = np.append(beta_walk, beta_prime)\n",
      "        km1_walk  = np.append(km1_walk, km1_prime)\n",
      "        km2_walk  = np.append(km2_walk, km2_prime)\n",
      "        s_walk  = np.append(s_walk, s_prime)\n",
      "        los_sigmas = np.append(los_sigmas, sigma_2)\n",
      "        \n",
      "    else:\n",
      "        \n",
      "        otro = np.random.random()\n",
      "        \n",
      "        if(otro <= exp(-(0.5)*np.abs(alpha))):\n",
      "            \n",
      "            alpha_walk = np.append(alpha_walk, alpha_prime)\n",
      "            beta_walk = np.append(beta_walk, beta_prime)\n",
      "            km1_walk = np.append(km1_walk, km1_prime)\n",
      "            km2_walk = np.append(km2_walk, km2_prime)\n",
      "            s_walk = np.append(s_walk, s_prime)\n",
      "            los_sigmas = np.append(los_sigmas, sigma_2)\n",
      "            \n",
      "        else:\n",
      "            \n",
      "            alpha_walk = np.append(alpha_walk, alpha_walk[i])\n",
      "            beta_walk = np.append(beta_walk, beta_walk[i])\n",
      "            km1_walk = np.append(km1_walk, km1_walk[i])\n",
      "            km2_walk = np.append(km2_walk, km2_walk[i])\n",
      "            s_walk = np.append(s_walk, s_walk[i])\n",
      "            los_sigmas = np.append(los_sigmas, sigma_1)"
     ],
     "language": "python",
     "metadata": {},
     "outputs": [],
     "prompt_number": 16
    },
    {
     "cell_type": "code",
     "collapsed": false,
     "input": [
      "h = argmin(los_sigmas)\n",
      "print alpha_walk[h], beta_walk[h], km1_walk[h], km2_walk[h], s_walk[h]"
     ],
     "language": "python",
     "metadata": {},
     "outputs": [
      {
       "output_type": "stream",
       "stream": "stdout",
       "text": [
        "1.99366571423 2.49008695003 1.39964503202 1.47676592909 1.2714499774\n"
       ]
      }
     ],
     "prompt_number": 17
    },
    {
     "cell_type": "code",
     "collapsed": false,
     "input": [
      "np.savetxt('datos_arreglados.dat', zip(alpha_walk, beta_walk, km1_walk, km2_walk, s_walk,los_sigmas))"
     ],
     "language": "python",
     "metadata": {},
     "outputs": [],
     "prompt_number": 18
    },
    {
     "cell_type": "code",
     "collapsed": false,
     "input": [],
     "language": "python",
     "metadata": {},
     "outputs": []
    }
   ],
   "metadata": {}
  }
 ]
}